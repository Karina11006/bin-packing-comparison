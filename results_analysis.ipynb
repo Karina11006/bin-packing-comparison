{
 "cells": [
  {
   "cell_type": "code",
   "execution_count": 125,
   "metadata": {},
   "outputs": [],
   "source": [
    "import pandas as pd\n",
    "from typing import List\n",
    "import numpy as np"
   ]
  },
  {
   "cell_type": "code",
   "execution_count": 126,
   "metadata": {},
   "outputs": [],
   "source": [
    "genetic_df = pd.read_csv('results/genetic_algorithm_output.csv', delimiter=';')\n",
    "heuristics_df = pd.read_csv('results/heuristics_output.csv', delimiter=';')"
   ]
  },
  {
   "cell_type": "code",
   "execution_count": 127,
   "metadata": {},
   "outputs": [],
   "source": [
    "df = pd.concat([genetic_df, heuristics_df], axis=0)\n",
    "df.drop(columns=['POP_SIZE', 'GENERATIONS', 'MUTATION_RATE', 'TOURNAMENT_SIZE'], inplace=True)"
   ]
  },
  {
   "cell_type": "code",
   "execution_count": 128,
   "metadata": {},
   "outputs": [
    {
     "name": "stderr",
     "output_type": "stream",
     "text": [
      "C:\\Users\\kakrpl\\AppData\\Local\\Temp\\ipykernel_4732\\1682157013.py:5: FutureWarning: Setting an item of incompatible dtype is deprecated and will raise an error in a future version of pandas. Value 'Falkenauer U' has dtype incompatible with float64, please explicitly cast to a compatible dtype first.\n",
      "  df.loc[mask, 'DATASET_KEY'] = dataset\n"
     ]
    }
   ],
   "source": [
    "DATASETS_NAME: List[str] = ['Falkenauer U', 'Falkenauer_T', 'Scholl_1', 'Scholl_2', 'Wäscher']\n",
    "df['DATASET_KEY'] = np.nan\n",
    "for dataset in DATASETS_NAME:\n",
    "    mask = df['DATASET_NAME'].str.contains(dataset, na=False)\n",
    "    df.loc[mask, 'DATASET_KEY'] = dataset"
   ]
  },
  {
   "cell_type": "code",
   "execution_count": 129,
   "metadata": {},
   "outputs": [
    {
     "data": {
      "application/vnd.microsoft.datawrangler.viewer.v0+json": {
       "columns": [
        {
         "name": "('DATASET_KEY', 'METHOD_NAME', 'N')",
         "rawType": "object",
         "type": "unknown"
        },
        {
         "name": "DATASET_NAME",
         "rawType": "object",
         "type": "string"
        },
        {
         "name": "BIN_NUMBER",
         "rawType": "int64",
         "type": "integer"
        },
        {
         "name": "BIN_CAPACITY",
         "rawType": "int64",
         "type": "integer"
        },
        {
         "name": "ELAPSED_TIME_MS",
         "rawType": "float64",
         "type": "float"
        }
       ],
       "conversionMethod": "pd.DataFrame",
       "ref": "c8178859-eb6d-41ac-8673-fa18d3adfbbb",
       "rows": [
        [
         "('Falkenauer U', 'Best_fit', 120)",
         "Falkenauer U_Falkenauer_u120_00.txt",
         "49",
         "150",
         "0.2438"
        ],
        [
         "('Falkenauer U', 'Best_fit', 250)",
         "Falkenauer U_Falkenauer_u250_00.txt",
         "100",
         "150",
         "2.0346"
        ],
        [
         "('Falkenauer U', 'Best_fit', 500)",
         "Falkenauer U_Falkenauer_u500_00.txt",
         "201",
         "150",
         "4.8832"
        ],
        [
         "('Falkenauer U', 'Best_fit', 1000)",
         "Falkenauer U_Falkenauer_u1000_00.txt",
         "403",
         "150",
         "10.2364"
        ],
        [
         "('Falkenauer U', 'First_fit', 120)",
         "Falkenauer U_Falkenauer_u120_00.txt",
         "49",
         "150",
         "0.3637"
        ],
        [
         "('Falkenauer U', 'First_fit', 250)",
         "Falkenauer U_Falkenauer_u250_00.txt",
         "100",
         "150",
         "2.9325"
        ],
        [
         "('Falkenauer U', 'First_fit', 500)",
         "Falkenauer U_Falkenauer_u500_00.txt",
         "201",
         "150",
         "4.3124"
        ],
        [
         "('Falkenauer U', 'First_fit', 1000)",
         "Falkenauer U_Falkenauer_u1000_00.txt",
         "403",
         "150",
         "11.8301"
        ],
        [
         "('Falkenauer U', 'Genetic_Algorithm', 120)",
         "Falkenauer U_Falkenauer_u120_00.txt",
         "65",
         "150",
         "22836.97"
        ],
        [
         "('Falkenauer U', 'Genetic_Algorithm', 250)",
         "Falkenauer U_Falkenauer_u250_00.txt",
         "144",
         "150",
         "47057.18"
        ],
        [
         "('Falkenauer U', 'Genetic_Algorithm', 500)",
         "Falkenauer U_Falkenauer_u500_00.txt",
         "313",
         "150",
         "94844.88"
        ],
        [
         "('Falkenauer U', 'Genetic_Algorithm', 1000)",
         "Falkenauer U_Falkenauer_u1000_00.txt",
         "730",
         "150",
         "227457.26"
        ],
        [
         "('Falkenauer U', 'Next_fit', 120)",
         "Falkenauer U_Falkenauer_u120_00.txt",
         "66",
         "150",
         "0.0158"
        ],
        [
         "('Falkenauer U', 'Next_fit', 250)",
         "Falkenauer U_Falkenauer_u250_00.txt",
         "136",
         "150",
         "0.0743"
        ],
        [
         "('Falkenauer U', 'Next_fit', 500)",
         "Falkenauer U_Falkenauer_u500_00.txt",
         "276",
         "150",
         "1.0975"
        ],
        [
         "('Falkenauer U', 'Next_fit', 1000)",
         "Falkenauer U_Falkenauer_u1000_00.txt",
         "557",
         "150",
         "0.0912"
        ],
        [
         "('Falkenauer_T', 'Best_fit', 60)",
         "Falkenauer_T_Falkenauer_t60_00.txt",
         "23",
         "1000",
         "0.0877"
        ],
        [
         "('Falkenauer_T', 'Best_fit', 120)",
         "Falkenauer_T_Falkenauer_t120_00.txt",
         "45",
         "1000",
         "0.2781"
        ],
        [
         "('Falkenauer_T', 'Best_fit', 249)",
         "Falkenauer_T_Falkenauer_t249_00.txt",
         "94",
         "1000",
         "0.8392"
        ],
        [
         "('Falkenauer_T', 'Best_fit', 501)",
         "Falkenauer_T_Falkenauer_t501_00.txt",
         "190",
         "1000",
         "3.2487"
        ],
        [
         "('Falkenauer_T', 'First_fit', 60)",
         "Falkenauer_T_Falkenauer_t60_00.txt",
         "23",
         "1000",
         "0.076"
        ],
        [
         "('Falkenauer_T', 'First_fit', 120)",
         "Falkenauer_T_Falkenauer_t120_00.txt",
         "45",
         "1000",
         "0.3322"
        ],
        [
         "('Falkenauer_T', 'First_fit', 249)",
         "Falkenauer_T_Falkenauer_t249_00.txt",
         "94",
         "1000",
         "1.293"
        ],
        [
         "('Falkenauer_T', 'First_fit', 501)",
         "Falkenauer_T_Falkenauer_t501_00.txt",
         "190",
         "1000",
         "4.8146"
        ],
        [
         "('Falkenauer_T', 'Genetic_Algorithm', 60)",
         "Falkenauer_T_Falkenauer_t60_00.txt",
         "23",
         "1000",
         "9792.95"
        ],
        [
         "('Falkenauer_T', 'Genetic_Algorithm', 120)",
         "Falkenauer_T_Falkenauer_t120_00.txt",
         "50",
         "1000",
         "18998.61"
        ],
        [
         "('Falkenauer_T', 'Genetic_Algorithm', 249)",
         "Falkenauer_T_Falkenauer_t249_00.txt",
         "114",
         "1000",
         "37101.83"
        ],
        [
         "('Falkenauer_T', 'Genetic_Algorithm', 501)",
         "Falkenauer_T_Falkenauer_t501_00.txt",
         "231",
         "1000",
         "87038.08"
        ],
        [
         "('Falkenauer_T', 'Next_fit', 60)",
         "Falkenauer_T_Falkenauer_t60_00.txt",
         "24",
         "1000",
         "0.0589"
        ],
        [
         "('Falkenauer_T', 'Next_fit', 120)",
         "Falkenauer_T_Falkenauer_t120_00.txt",
         "48",
         "1000",
         "0.0211"
        ],
        [
         "('Falkenauer_T', 'Next_fit', 249)",
         "Falkenauer_T_Falkenauer_t249_00.txt",
         "99",
         "1000",
         "0.0268"
        ],
        [
         "('Falkenauer_T', 'Next_fit', 501)",
         "Falkenauer_T_Falkenauer_t501_00.txt",
         "201",
         "1000",
         "0.0552"
        ],
        [
         "('Scholl_1', 'Best_fit', 50)",
         "Scholl_1_N1C3W4_S.txt",
         "22",
         "150",
         "0.04728"
        ],
        [
         "('Scholl_1', 'Best_fit', 100)",
         "Scholl_1_N2C2W4_G.txt",
         "61",
         "120",
         "0.21445"
        ],
        [
         "('Scholl_1', 'Best_fit', 200)",
         "Scholl_1_N3C1W1_C.txt",
         "99",
         "100",
         "0.70114"
        ],
        [
         "('Scholl_1', 'Best_fit', 500)",
         "Scholl_1_N4C2W2_Q.txt",
         "258",
         "120",
         "4.07423"
        ],
        [
         "('Scholl_1', 'First_fit', 50)",
         "Scholl_1_N1C3W4_S.txt",
         "22",
         "150",
         "0.04448"
        ],
        [
         "('Scholl_1', 'First_fit', 100)",
         "Scholl_1_N2C2W4_G.txt",
         "61",
         "120",
         "0.22037"
        ],
        [
         "('Scholl_1', 'First_fit', 200)",
         "Scholl_1_N3C1W1_C.txt",
         "99",
         "100",
         "0.65131"
        ],
        [
         "('Scholl_1', 'First_fit', 500)",
         "Scholl_1_N4C2W2_Q.txt",
         "258",
         "120",
         "4.09864"
        ],
        [
         "('Scholl_1', 'Genetic_Algorithm', 50)",
         "Scholl_1_N1C3W4_S.txt",
         "26",
         "150",
         "5211.31"
        ],
        [
         "('Scholl_1', 'Genetic_Algorithm', 100)",
         "Scholl_1_N2C2W4_G.txt",
         "65",
         "120",
         "9682.65"
        ],
        [
         "('Scholl_1', 'Genetic_Algorithm', 200)",
         "Scholl_1_N3C1W1_C.txt",
         "143",
         "100",
         "18647.46"
        ],
        [
         "('Scholl_1', 'Genetic_Algorithm', 500)",
         "Scholl_1_N4C2W2_Q.txt",
         "492",
         "120",
         "50647.81"
        ],
        [
         "('Scholl_1', 'Next_fit', 50)",
         "Scholl_1_N1C3W4_S.txt",
         "29",
         "150",
         "0.0054"
        ],
        [
         "('Scholl_1', 'Next_fit', 100)",
         "Scholl_1_N2C2W4_G.txt",
         "77",
         "120",
         "0.00897"
        ],
        [
         "('Scholl_1', 'Next_fit', 200)",
         "Scholl_1_N3C1W1_C.txt",
         "124",
         "100",
         "0.0147"
        ],
        [
         "('Scholl_1', 'Next_fit', 500)",
         "Scholl_1_N4C2W2_Q.txt",
         "343",
         "120",
         "0.03636"
        ],
        [
         "('Scholl_2', 'Best_fit', 50)",
         "Scholl_2_N1W4B3R7.txt",
         "6",
         "1000",
         "0.0304"
        ],
        [
         "('Scholl_2', 'Best_fit', 100)",
         "Scholl_2_N2W2B2R0.txt",
         "21",
         "1000",
         "0.08858"
        ]
       ],
       "shape": {
        "columns": 4,
        "rows": 132
       }
      },
      "text/html": [
       "<div>\n",
       "<style scoped>\n",
       "    .dataframe tbody tr th:only-of-type {\n",
       "        vertical-align: middle;\n",
       "    }\n",
       "\n",
       "    .dataframe tbody tr th {\n",
       "        vertical-align: top;\n",
       "    }\n",
       "\n",
       "    .dataframe thead th {\n",
       "        text-align: right;\n",
       "    }\n",
       "</style>\n",
       "<table border=\"1\" class=\"dataframe\">\n",
       "  <thead>\n",
       "    <tr style=\"text-align: right;\">\n",
       "      <th></th>\n",
       "      <th></th>\n",
       "      <th></th>\n",
       "      <th>DATASET_NAME</th>\n",
       "      <th>BIN_NUMBER</th>\n",
       "      <th>BIN_CAPACITY</th>\n",
       "      <th>ELAPSED_TIME_MS</th>\n",
       "    </tr>\n",
       "    <tr>\n",
       "      <th>DATASET_KEY</th>\n",
       "      <th>METHOD_NAME</th>\n",
       "      <th>N</th>\n",
       "      <th></th>\n",
       "      <th></th>\n",
       "      <th></th>\n",
       "      <th></th>\n",
       "    </tr>\n",
       "  </thead>\n",
       "  <tbody>\n",
       "    <tr>\n",
       "      <th rowspan=\"5\" valign=\"top\">Falkenauer U</th>\n",
       "      <th rowspan=\"4\" valign=\"top\">Best_fit</th>\n",
       "      <th>120</th>\n",
       "      <td>Falkenauer U_Falkenauer_u120_00.txt</td>\n",
       "      <td>49</td>\n",
       "      <td>150</td>\n",
       "      <td>0.2438</td>\n",
       "    </tr>\n",
       "    <tr>\n",
       "      <th>250</th>\n",
       "      <td>Falkenauer U_Falkenauer_u250_00.txt</td>\n",
       "      <td>100</td>\n",
       "      <td>150</td>\n",
       "      <td>2.0346</td>\n",
       "    </tr>\n",
       "    <tr>\n",
       "      <th>500</th>\n",
       "      <td>Falkenauer U_Falkenauer_u500_00.txt</td>\n",
       "      <td>201</td>\n",
       "      <td>150</td>\n",
       "      <td>4.8832</td>\n",
       "    </tr>\n",
       "    <tr>\n",
       "      <th>1000</th>\n",
       "      <td>Falkenauer U_Falkenauer_u1000_00.txt</td>\n",
       "      <td>403</td>\n",
       "      <td>150</td>\n",
       "      <td>10.2364</td>\n",
       "    </tr>\n",
       "    <tr>\n",
       "      <th>First_fit</th>\n",
       "      <th>120</th>\n",
       "      <td>Falkenauer U_Falkenauer_u120_00.txt</td>\n",
       "      <td>49</td>\n",
       "      <td>150</td>\n",
       "      <td>0.3637</td>\n",
       "    </tr>\n",
       "    <tr>\n",
       "      <th>...</th>\n",
       "      <th>...</th>\n",
       "      <th>...</th>\n",
       "      <td>...</td>\n",
       "      <td>...</td>\n",
       "      <td>...</td>\n",
       "      <td>...</td>\n",
       "    </tr>\n",
       "    <tr>\n",
       "      <th rowspan=\"5\" valign=\"top\">Wäscher</th>\n",
       "      <th rowspan=\"5\" valign=\"top\">Next_fit</th>\n",
       "      <th>153</th>\n",
       "      <td>Wäscher_Waescher_TEST0095.txt</td>\n",
       "      <td>17</td>\n",
       "      <td>10000</td>\n",
       "      <td>0.0208</td>\n",
       "    </tr>\n",
       "    <tr>\n",
       "      <th>163</th>\n",
       "      <td>Wäscher_Waescher_TEST0068.txt</td>\n",
       "      <td>12</td>\n",
       "      <td>10000</td>\n",
       "      <td>0.0186</td>\n",
       "    </tr>\n",
       "    <tr>\n",
       "      <th>164</th>\n",
       "      <td>Wäscher_Waescher_TEST0044.txt</td>\n",
       "      <td>14</td>\n",
       "      <td>10000</td>\n",
       "      <td>0.0192</td>\n",
       "    </tr>\n",
       "    <tr>\n",
       "      <th>228</th>\n",
       "      <td>Wäscher_Waescher_TEST0075.txt</td>\n",
       "      <td>13</td>\n",
       "      <td>10000</td>\n",
       "      <td>0.0254</td>\n",
       "    </tr>\n",
       "    <tr>\n",
       "      <th>239</th>\n",
       "      <td>Wäscher_Waescher_TEST0055B.txt</td>\n",
       "      <td>21</td>\n",
       "      <td>10000</td>\n",
       "      <td>0.0264</td>\n",
       "    </tr>\n",
       "  </tbody>\n",
       "</table>\n",
       "<p>132 rows × 4 columns</p>\n",
       "</div>"
      ],
      "text/plain": [
       "                                                       DATASET_NAME  \\\n",
       "DATASET_KEY  METHOD_NAME N                                            \n",
       "Falkenauer U Best_fit    120    Falkenauer U_Falkenauer_u120_00.txt   \n",
       "                         250    Falkenauer U_Falkenauer_u250_00.txt   \n",
       "                         500    Falkenauer U_Falkenauer_u500_00.txt   \n",
       "                         1000  Falkenauer U_Falkenauer_u1000_00.txt   \n",
       "             First_fit   120    Falkenauer U_Falkenauer_u120_00.txt   \n",
       "...                                                             ...   \n",
       "Wäscher      Next_fit    153          Wäscher_Waescher_TEST0095.txt   \n",
       "                         163          Wäscher_Waescher_TEST0068.txt   \n",
       "                         164          Wäscher_Waescher_TEST0044.txt   \n",
       "                         228          Wäscher_Waescher_TEST0075.txt   \n",
       "                         239         Wäscher_Waescher_TEST0055B.txt   \n",
       "\n",
       "                               BIN_NUMBER  BIN_CAPACITY  ELAPSED_TIME_MS  \n",
       "DATASET_KEY  METHOD_NAME N                                                \n",
       "Falkenauer U Best_fit    120           49           150           0.2438  \n",
       "                         250          100           150           2.0346  \n",
       "                         500          201           150           4.8832  \n",
       "                         1000         403           150          10.2364  \n",
       "             First_fit   120           49           150           0.3637  \n",
       "...                                   ...           ...              ...  \n",
       "Wäscher      Next_fit    153           17         10000           0.0208  \n",
       "                         163           12         10000           0.0186  \n",
       "                         164           14         10000           0.0192  \n",
       "                         228           13         10000           0.0254  \n",
       "                         239           21         10000           0.0264  \n",
       "\n",
       "[132 rows x 4 columns]"
      ]
     },
     "execution_count": 129,
     "metadata": {},
     "output_type": "execute_result"
    }
   ],
   "source": [
    "grouped_df = df.copy()\n",
    "grouped_df = grouped_df.groupby(['DATASET_KEY', 'METHOD_NAME', 'N'])\n",
    "grouped_df.first()"
   ]
  },
  {
   "cell_type": "code",
   "execution_count": 134,
   "metadata": {},
   "outputs": [
    {
     "data": {
      "application/vnd.microsoft.datawrangler.viewer.v0+json": {
       "columns": [
        {
         "name": "('DATASET_KEY', 'METHOD_NAME', 'BIN_CAPACITY')",
         "rawType": "object",
         "type": "unknown"
        },
        {
         "name": "DATASET_NAME",
         "rawType": "object",
         "type": "string"
        },
        {
         "name": "BIN_NUMBER",
         "rawType": "int64",
         "type": "integer"
        },
        {
         "name": "N",
         "rawType": "int64",
         "type": "integer"
        },
        {
         "name": "ELAPSED_TIME_MS",
         "rawType": "float64",
         "type": "float"
        }
       ],
       "conversionMethod": "pd.DataFrame",
       "ref": "258a2dea-c939-4cc5-875e-fcc64ef50f08",
       "rows": [
        [
         "('Falkenauer U', 'Best_fit', 150)",
         "Falkenauer U_Falkenauer_u1000_00.txt",
         "403",
         "1000",
         "10.2364"
        ],
        [
         "('Falkenauer U', 'First_fit', 150)",
         "Falkenauer U_Falkenauer_u1000_00.txt",
         "403",
         "1000",
         "11.8301"
        ],
        [
         "('Falkenauer U', 'Genetic_Algorithm', 150)",
         "Falkenauer U_Falkenauer_u1000_00.txt",
         "730",
         "1000",
         "227457.26"
        ],
        [
         "('Falkenauer U', 'Next_fit', 150)",
         "Falkenauer U_Falkenauer_u1000_00.txt",
         "557",
         "1000",
         "0.0912"
        ],
        [
         "('Falkenauer_T', 'Best_fit', 1000)",
         "Falkenauer_T_Falkenauer_t120_00.txt",
         "45",
         "120",
         "0.2781"
        ],
        [
         "('Falkenauer_T', 'First_fit', 1000)",
         "Falkenauer_T_Falkenauer_t120_00.txt",
         "45",
         "120",
         "0.3322"
        ],
        [
         "('Falkenauer_T', 'Genetic_Algorithm', 1000)",
         "Falkenauer_T_Falkenauer_t120_00.txt",
         "50",
         "120",
         "18998.61"
        ],
        [
         "('Falkenauer_T', 'Next_fit', 1000)",
         "Falkenauer_T_Falkenauer_t120_00.txt",
         "48",
         "120",
         "0.0211"
        ],
        [
         "('Scholl_1', 'Best_fit', 100)",
         "Scholl_1_N3C1W1_C.txt",
         "99",
         "200",
         "0.70114"
        ],
        [
         "('Scholl_1', 'Best_fit', 120)",
         "Scholl_1_N4C2W2_Q.txt",
         "258",
         "500",
         "4.07423"
        ],
        [
         "('Scholl_1', 'Best_fit', 150)",
         "Scholl_1_N1C3W4_S.txt",
         "22",
         "50",
         "0.04728"
        ],
        [
         "('Scholl_1', 'First_fit', 100)",
         "Scholl_1_N3C1W1_C.txt",
         "99",
         "200",
         "0.65131"
        ],
        [
         "('Scholl_1', 'First_fit', 120)",
         "Scholl_1_N4C2W2_Q.txt",
         "258",
         "500",
         "4.09864"
        ],
        [
         "('Scholl_1', 'First_fit', 150)",
         "Scholl_1_N1C3W4_S.txt",
         "22",
         "50",
         "0.04448"
        ],
        [
         "('Scholl_1', 'Genetic_Algorithm', 100)",
         "Scholl_1_N3C1W1_C.txt",
         "143",
         "200",
         "18647.46"
        ],
        [
         "('Scholl_1', 'Genetic_Algorithm', 120)",
         "Scholl_1_N4C2W2_Q.txt",
         "492",
         "500",
         "50647.81"
        ],
        [
         "('Scholl_1', 'Genetic_Algorithm', 150)",
         "Scholl_1_N1C3W4_S.txt",
         "26",
         "50",
         "5211.31"
        ],
        [
         "('Scholl_1', 'Next_fit', 100)",
         "Scholl_1_N3C1W1_C.txt",
         "124",
         "200",
         "0.0147"
        ],
        [
         "('Scholl_1', 'Next_fit', 120)",
         "Scholl_1_N4C2W2_Q.txt",
         "343",
         "500",
         "0.03636"
        ],
        [
         "('Scholl_1', 'Next_fit', 150)",
         "Scholl_1_N1C3W4_S.txt",
         "29",
         "50",
         "0.0054"
        ],
        [
         "('Scholl_2', 'Best_fit', 1000)",
         "Scholl_2_N3W4B1R9.txt",
         "24",
         "200",
         "0.17646"
        ],
        [
         "('Scholl_2', 'First_fit', 1000)",
         "Scholl_2_N3W4B1R9.txt",
         "24",
         "200",
         "0.17931"
        ],
        [
         "('Scholl_2', 'Genetic_Algorithm', 1000)",
         "Scholl_2_N3W4B1R9.txt",
         "62",
         "200",
         "16764.44"
        ],
        [
         "('Scholl_2', 'Next_fit', 1000)",
         "Scholl_2_N3W4B1R9.txt",
         "23",
         "200",
         "0.01488"
        ],
        [
         "('Wäscher', 'Best_fit', 10000)",
         "Wäscher_Waescher_TEST0005.txt",
         "29",
         "114",
         "0.2252"
        ],
        [
         "('Wäscher', 'First_fit', 10000)",
         "Wäscher_Waescher_TEST0005.txt",
         "29",
         "114",
         "0.2101"
        ],
        [
         "('Wäscher', 'Genetic_Algorithm', 10000)",
         "Wäscher_Waescher_TEST0005.txt",
         "38",
         "114",
         "17443.91"
        ],
        [
         "('Wäscher', 'Next_fit', 10000)",
         "Wäscher_Waescher_TEST0005.txt",
         "32",
         "114",
         "0.0138"
        ]
       ],
       "shape": {
        "columns": 4,
        "rows": 28
       }
      },
      "text/html": [
       "<div>\n",
       "<style scoped>\n",
       "    .dataframe tbody tr th:only-of-type {\n",
       "        vertical-align: middle;\n",
       "    }\n",
       "\n",
       "    .dataframe tbody tr th {\n",
       "        vertical-align: top;\n",
       "    }\n",
       "\n",
       "    .dataframe thead th {\n",
       "        text-align: right;\n",
       "    }\n",
       "</style>\n",
       "<table border=\"1\" class=\"dataframe\">\n",
       "  <thead>\n",
       "    <tr style=\"text-align: right;\">\n",
       "      <th></th>\n",
       "      <th></th>\n",
       "      <th></th>\n",
       "      <th>DATASET_NAME</th>\n",
       "      <th>BIN_NUMBER</th>\n",
       "      <th>N</th>\n",
       "      <th>ELAPSED_TIME_MS</th>\n",
       "    </tr>\n",
       "    <tr>\n",
       "      <th>DATASET_KEY</th>\n",
       "      <th>METHOD_NAME</th>\n",
       "      <th>BIN_CAPACITY</th>\n",
       "      <th></th>\n",
       "      <th></th>\n",
       "      <th></th>\n",
       "      <th></th>\n",
       "    </tr>\n",
       "  </thead>\n",
       "  <tbody>\n",
       "    <tr>\n",
       "      <th rowspan=\"4\" valign=\"top\">Falkenauer U</th>\n",
       "      <th>Best_fit</th>\n",
       "      <th>150</th>\n",
       "      <td>Falkenauer U_Falkenauer_u1000_00.txt</td>\n",
       "      <td>403</td>\n",
       "      <td>1000</td>\n",
       "      <td>10.23640</td>\n",
       "    </tr>\n",
       "    <tr>\n",
       "      <th>First_fit</th>\n",
       "      <th>150</th>\n",
       "      <td>Falkenauer U_Falkenauer_u1000_00.txt</td>\n",
       "      <td>403</td>\n",
       "      <td>1000</td>\n",
       "      <td>11.83010</td>\n",
       "    </tr>\n",
       "    <tr>\n",
       "      <th>Genetic_Algorithm</th>\n",
       "      <th>150</th>\n",
       "      <td>Falkenauer U_Falkenauer_u1000_00.txt</td>\n",
       "      <td>730</td>\n",
       "      <td>1000</td>\n",
       "      <td>227457.26000</td>\n",
       "    </tr>\n",
       "    <tr>\n",
       "      <th>Next_fit</th>\n",
       "      <th>150</th>\n",
       "      <td>Falkenauer U_Falkenauer_u1000_00.txt</td>\n",
       "      <td>557</td>\n",
       "      <td>1000</td>\n",
       "      <td>0.09120</td>\n",
       "    </tr>\n",
       "    <tr>\n",
       "      <th rowspan=\"4\" valign=\"top\">Falkenauer_T</th>\n",
       "      <th>Best_fit</th>\n",
       "      <th>1000</th>\n",
       "      <td>Falkenauer_T_Falkenauer_t120_00.txt</td>\n",
       "      <td>45</td>\n",
       "      <td>120</td>\n",
       "      <td>0.27810</td>\n",
       "    </tr>\n",
       "    <tr>\n",
       "      <th>First_fit</th>\n",
       "      <th>1000</th>\n",
       "      <td>Falkenauer_T_Falkenauer_t120_00.txt</td>\n",
       "      <td>45</td>\n",
       "      <td>120</td>\n",
       "      <td>0.33220</td>\n",
       "    </tr>\n",
       "    <tr>\n",
       "      <th>Genetic_Algorithm</th>\n",
       "      <th>1000</th>\n",
       "      <td>Falkenauer_T_Falkenauer_t120_00.txt</td>\n",
       "      <td>50</td>\n",
       "      <td>120</td>\n",
       "      <td>18998.61000</td>\n",
       "    </tr>\n",
       "    <tr>\n",
       "      <th>Next_fit</th>\n",
       "      <th>1000</th>\n",
       "      <td>Falkenauer_T_Falkenauer_t120_00.txt</td>\n",
       "      <td>48</td>\n",
       "      <td>120</td>\n",
       "      <td>0.02110</td>\n",
       "    </tr>\n",
       "    <tr>\n",
       "      <th rowspan=\"12\" valign=\"top\">Scholl_1</th>\n",
       "      <th rowspan=\"3\" valign=\"top\">Best_fit</th>\n",
       "      <th>100</th>\n",
       "      <td>Scholl_1_N3C1W1_C.txt</td>\n",
       "      <td>99</td>\n",
       "      <td>200</td>\n",
       "      <td>0.70114</td>\n",
       "    </tr>\n",
       "    <tr>\n",
       "      <th>120</th>\n",
       "      <td>Scholl_1_N4C2W2_Q.txt</td>\n",
       "      <td>258</td>\n",
       "      <td>500</td>\n",
       "      <td>4.07423</td>\n",
       "    </tr>\n",
       "    <tr>\n",
       "      <th>150</th>\n",
       "      <td>Scholl_1_N1C3W4_S.txt</td>\n",
       "      <td>22</td>\n",
       "      <td>50</td>\n",
       "      <td>0.04728</td>\n",
       "    </tr>\n",
       "    <tr>\n",
       "      <th rowspan=\"3\" valign=\"top\">First_fit</th>\n",
       "      <th>100</th>\n",
       "      <td>Scholl_1_N3C1W1_C.txt</td>\n",
       "      <td>99</td>\n",
       "      <td>200</td>\n",
       "      <td>0.65131</td>\n",
       "    </tr>\n",
       "    <tr>\n",
       "      <th>120</th>\n",
       "      <td>Scholl_1_N4C2W2_Q.txt</td>\n",
       "      <td>258</td>\n",
       "      <td>500</td>\n",
       "      <td>4.09864</td>\n",
       "    </tr>\n",
       "    <tr>\n",
       "      <th>150</th>\n",
       "      <td>Scholl_1_N1C3W4_S.txt</td>\n",
       "      <td>22</td>\n",
       "      <td>50</td>\n",
       "      <td>0.04448</td>\n",
       "    </tr>\n",
       "    <tr>\n",
       "      <th rowspan=\"3\" valign=\"top\">Genetic_Algorithm</th>\n",
       "      <th>100</th>\n",
       "      <td>Scholl_1_N3C1W1_C.txt</td>\n",
       "      <td>143</td>\n",
       "      <td>200</td>\n",
       "      <td>18647.46000</td>\n",
       "    </tr>\n",
       "    <tr>\n",
       "      <th>120</th>\n",
       "      <td>Scholl_1_N4C2W2_Q.txt</td>\n",
       "      <td>492</td>\n",
       "      <td>500</td>\n",
       "      <td>50647.81000</td>\n",
       "    </tr>\n",
       "    <tr>\n",
       "      <th>150</th>\n",
       "      <td>Scholl_1_N1C3W4_S.txt</td>\n",
       "      <td>26</td>\n",
       "      <td>50</td>\n",
       "      <td>5211.31000</td>\n",
       "    </tr>\n",
       "    <tr>\n",
       "      <th rowspan=\"3\" valign=\"top\">Next_fit</th>\n",
       "      <th>100</th>\n",
       "      <td>Scholl_1_N3C1W1_C.txt</td>\n",
       "      <td>124</td>\n",
       "      <td>200</td>\n",
       "      <td>0.01470</td>\n",
       "    </tr>\n",
       "    <tr>\n",
       "      <th>120</th>\n",
       "      <td>Scholl_1_N4C2W2_Q.txt</td>\n",
       "      <td>343</td>\n",
       "      <td>500</td>\n",
       "      <td>0.03636</td>\n",
       "    </tr>\n",
       "    <tr>\n",
       "      <th>150</th>\n",
       "      <td>Scholl_1_N1C3W4_S.txt</td>\n",
       "      <td>29</td>\n",
       "      <td>50</td>\n",
       "      <td>0.00540</td>\n",
       "    </tr>\n",
       "    <tr>\n",
       "      <th rowspan=\"4\" valign=\"top\">Scholl_2</th>\n",
       "      <th>Best_fit</th>\n",
       "      <th>1000</th>\n",
       "      <td>Scholl_2_N3W4B1R9.txt</td>\n",
       "      <td>24</td>\n",
       "      <td>200</td>\n",
       "      <td>0.17646</td>\n",
       "    </tr>\n",
       "    <tr>\n",
       "      <th>First_fit</th>\n",
       "      <th>1000</th>\n",
       "      <td>Scholl_2_N3W4B1R9.txt</td>\n",
       "      <td>24</td>\n",
       "      <td>200</td>\n",
       "      <td>0.17931</td>\n",
       "    </tr>\n",
       "    <tr>\n",
       "      <th>Genetic_Algorithm</th>\n",
       "      <th>1000</th>\n",
       "      <td>Scholl_2_N3W4B1R9.txt</td>\n",
       "      <td>62</td>\n",
       "      <td>200</td>\n",
       "      <td>16764.44000</td>\n",
       "    </tr>\n",
       "    <tr>\n",
       "      <th>Next_fit</th>\n",
       "      <th>1000</th>\n",
       "      <td>Scholl_2_N3W4B1R9.txt</td>\n",
       "      <td>23</td>\n",
       "      <td>200</td>\n",
       "      <td>0.01488</td>\n",
       "    </tr>\n",
       "    <tr>\n",
       "      <th rowspan=\"4\" valign=\"top\">Wäscher</th>\n",
       "      <th>Best_fit</th>\n",
       "      <th>10000</th>\n",
       "      <td>Wäscher_Waescher_TEST0005.txt</td>\n",
       "      <td>29</td>\n",
       "      <td>114</td>\n",
       "      <td>0.22520</td>\n",
       "    </tr>\n",
       "    <tr>\n",
       "      <th>First_fit</th>\n",
       "      <th>10000</th>\n",
       "      <td>Wäscher_Waescher_TEST0005.txt</td>\n",
       "      <td>29</td>\n",
       "      <td>114</td>\n",
       "      <td>0.21010</td>\n",
       "    </tr>\n",
       "    <tr>\n",
       "      <th>Genetic_Algorithm</th>\n",
       "      <th>10000</th>\n",
       "      <td>Wäscher_Waescher_TEST0005.txt</td>\n",
       "      <td>38</td>\n",
       "      <td>114</td>\n",
       "      <td>17443.91000</td>\n",
       "    </tr>\n",
       "    <tr>\n",
       "      <th>Next_fit</th>\n",
       "      <th>10000</th>\n",
       "      <td>Wäscher_Waescher_TEST0005.txt</td>\n",
       "      <td>32</td>\n",
       "      <td>114</td>\n",
       "      <td>0.01380</td>\n",
       "    </tr>\n",
       "  </tbody>\n",
       "</table>\n",
       "</div>"
      ],
      "text/plain": [
       "                                                                     DATASET_NAME  \\\n",
       "DATASET_KEY  METHOD_NAME       BIN_CAPACITY                                         \n",
       "Falkenauer U Best_fit          150           Falkenauer U_Falkenauer_u1000_00.txt   \n",
       "             First_fit         150           Falkenauer U_Falkenauer_u1000_00.txt   \n",
       "             Genetic_Algorithm 150           Falkenauer U_Falkenauer_u1000_00.txt   \n",
       "             Next_fit          150           Falkenauer U_Falkenauer_u1000_00.txt   \n",
       "Falkenauer_T Best_fit          1000           Falkenauer_T_Falkenauer_t120_00.txt   \n",
       "             First_fit         1000           Falkenauer_T_Falkenauer_t120_00.txt   \n",
       "             Genetic_Algorithm 1000           Falkenauer_T_Falkenauer_t120_00.txt   \n",
       "             Next_fit          1000           Falkenauer_T_Falkenauer_t120_00.txt   \n",
       "Scholl_1     Best_fit          100                          Scholl_1_N3C1W1_C.txt   \n",
       "                               120                          Scholl_1_N4C2W2_Q.txt   \n",
       "                               150                          Scholl_1_N1C3W4_S.txt   \n",
       "             First_fit         100                          Scholl_1_N3C1W1_C.txt   \n",
       "                               120                          Scholl_1_N4C2W2_Q.txt   \n",
       "                               150                          Scholl_1_N1C3W4_S.txt   \n",
       "             Genetic_Algorithm 100                          Scholl_1_N3C1W1_C.txt   \n",
       "                               120                          Scholl_1_N4C2W2_Q.txt   \n",
       "                               150                          Scholl_1_N1C3W4_S.txt   \n",
       "             Next_fit          100                          Scholl_1_N3C1W1_C.txt   \n",
       "                               120                          Scholl_1_N4C2W2_Q.txt   \n",
       "                               150                          Scholl_1_N1C3W4_S.txt   \n",
       "Scholl_2     Best_fit          1000                         Scholl_2_N3W4B1R9.txt   \n",
       "             First_fit         1000                         Scholl_2_N3W4B1R9.txt   \n",
       "             Genetic_Algorithm 1000                         Scholl_2_N3W4B1R9.txt   \n",
       "             Next_fit          1000                         Scholl_2_N3W4B1R9.txt   \n",
       "Wäscher      Best_fit          10000                Wäscher_Waescher_TEST0005.txt   \n",
       "             First_fit         10000                Wäscher_Waescher_TEST0005.txt   \n",
       "             Genetic_Algorithm 10000                Wäscher_Waescher_TEST0005.txt   \n",
       "             Next_fit          10000                Wäscher_Waescher_TEST0005.txt   \n",
       "\n",
       "                                             BIN_NUMBER     N  ELAPSED_TIME_MS  \n",
       "DATASET_KEY  METHOD_NAME       BIN_CAPACITY                                     \n",
       "Falkenauer U Best_fit          150                  403  1000         10.23640  \n",
       "             First_fit         150                  403  1000         11.83010  \n",
       "             Genetic_Algorithm 150                  730  1000     227457.26000  \n",
       "             Next_fit          150                  557  1000          0.09120  \n",
       "Falkenauer_T Best_fit          1000                  45   120          0.27810  \n",
       "             First_fit         1000                  45   120          0.33220  \n",
       "             Genetic_Algorithm 1000                  50   120      18998.61000  \n",
       "             Next_fit          1000                  48   120          0.02110  \n",
       "Scholl_1     Best_fit          100                   99   200          0.70114  \n",
       "                               120                  258   500          4.07423  \n",
       "                               150                   22    50          0.04728  \n",
       "             First_fit         100                   99   200          0.65131  \n",
       "                               120                  258   500          4.09864  \n",
       "                               150                   22    50          0.04448  \n",
       "             Genetic_Algorithm 100                  143   200      18647.46000  \n",
       "                               120                  492   500      50647.81000  \n",
       "                               150                   26    50       5211.31000  \n",
       "             Next_fit          100                  124   200          0.01470  \n",
       "                               120                  343   500          0.03636  \n",
       "                               150                   29    50          0.00540  \n",
       "Scholl_2     Best_fit          1000                  24   200          0.17646  \n",
       "             First_fit         1000                  24   200          0.17931  \n",
       "             Genetic_Algorithm 1000                  62   200      16764.44000  \n",
       "             Next_fit          1000                  23   200          0.01488  \n",
       "Wäscher      Best_fit          10000                 29   114          0.22520  \n",
       "             First_fit         10000                 29   114          0.21010  \n",
       "             Genetic_Algorithm 10000                 38   114      17443.91000  \n",
       "             Next_fit          10000                 32   114          0.01380  "
      ]
     },
     "execution_count": 134,
     "metadata": {},
     "output_type": "execute_result"
    }
   ],
   "source": [
    "grouped_df = df.copy()\n",
    "grouped_df = grouped_df.groupby(['DATASET_KEY', 'METHOD_NAME', 'BIN_CAPACITY'])\n",
    "grouped_df.first()"
   ]
  },
  {
   "cell_type": "code",
   "execution_count": 133,
   "metadata": {},
   "outputs": [
    {
     "data": {
      "application/vnd.microsoft.datawrangler.viewer.v0+json": {
       "columns": [
        {
         "name": "('DATASET_KEY', 'METHOD_NAME', 'N')",
         "rawType": "object",
         "type": "unknown"
        },
        {
         "name": "avg_bin_number",
         "rawType": "float64",
         "type": "float"
        },
        {
         "name": "avg_time_ms",
         "rawType": "float64",
         "type": "float"
        }
       ],
       "conversionMethod": "pd.DataFrame",
       "ref": "047f53aa-3a64-429c-88e6-26701841ffbe",
       "rows": [
        [
         "('Falkenauer U', 'Best_fit', 120)",
         "49.75",
         "0.267125"
        ],
        [
         "('Falkenauer U', 'Best_fit', 250)",
         "103.1",
         "1.39896"
        ],
        [
         "('Falkenauer U', 'Best_fit', 500)",
         "203.9",
         "4.926475"
        ],
        [
         "('Falkenauer U', 'Best_fit', 1000)",
         "405.4",
         "18.33959"
        ],
        [
         "('Falkenauer U', 'First_fit', 120)",
         "49.75",
         "0.26133"
        ],
        [
         "('Falkenauer U', 'First_fit', 250)",
         "103.1",
         "1.534305"
        ],
        [
         "('Falkenauer U', 'First_fit', 500)",
         "203.9",
         "4.774405"
        ],
        [
         "('Falkenauer U', 'First_fit', 1000)",
         "405.4",
         "20.71591"
        ],
        [
         "('Falkenauer U', 'Genetic_Algorithm', 120)",
         "66.9",
         "22407.5985"
        ],
        [
         "('Falkenauer U', 'Genetic_Algorithm', 250)",
         "152.65",
         "46811.2945"
        ],
        [
         "('Falkenauer U', 'Genetic_Algorithm', 500)",
         "317.35",
         "92282.91750000001"
        ],
        [
         "('Falkenauer U', 'Genetic_Algorithm', 1000)",
         "693.5",
         "224786.0065"
        ],
        [
         "('Falkenauer U', 'Next_fit', 120)",
         "67.6",
         "0.1371"
        ],
        [
         "('Falkenauer U', 'Next_fit', 250)",
         "141.55",
         "0.36831"
        ],
        [
         "('Falkenauer U', 'Next_fit', 500)",
         "281.35",
         "0.7096199999999999"
        ],
        [
         "('Falkenauer U', 'Next_fit', 1000)",
         "561.65",
         "0.13831"
        ],
        [
         "('Falkenauer_T', 'Best_fit', 60)",
         "23.2",
         "0.093945"
        ],
        [
         "('Falkenauer_T', 'Best_fit', 120)",
         "45.8",
         "0.258195"
        ],
        [
         "('Falkenauer_T', 'Best_fit', 249)",
         "95.0",
         "1.004095"
        ],
        [
         "('Falkenauer_T', 'Best_fit', 501)",
         "190.05",
         "3.16996"
        ],
        [
         "('Falkenauer_T', 'First_fit', 60)",
         "23.2",
         "0.10002"
        ],
        [
         "('Falkenauer_T', 'First_fit', 120)",
         "45.8",
         "0.48562500000000003"
        ],
        [
         "('Falkenauer_T', 'First_fit', 249)",
         "95.0",
         "1.33563"
        ],
        [
         "('Falkenauer_T', 'First_fit', 501)",
         "190.05",
         "4.78719"
        ],
        [
         "('Falkenauer_T', 'Genetic_Algorithm', 60)",
         "24.25",
         "11557.874"
        ],
        [
         "('Falkenauer_T', 'Genetic_Algorithm', 120)",
         "49.9",
         "19468.5685"
        ],
        [
         "('Falkenauer_T', 'Genetic_Algorithm', 249)",
         "111.35",
         "42588.287"
        ],
        [
         "('Falkenauer_T', 'Genetic_Algorithm', 501)",
         "235.9",
         "84611.706"
        ],
        [
         "('Falkenauer_T', 'Next_fit', 60)",
         "23.55",
         "0.037735000000000005"
        ],
        [
         "('Falkenauer_T', 'Next_fit', 120)",
         "47.55",
         "0.01737"
        ],
        [
         "('Falkenauer_T', 'Next_fit', 249)",
         "99.1",
         "0.030425"
        ],
        [
         "('Falkenauer_T', 'Next_fit', 501)",
         "200.2",
         "0.08473"
        ],
        [
         "('Scholl_1', 'Best_fit', 50)",
         "26.666666666666668",
         "0.05600872222222222"
        ],
        [
         "('Scholl_1', 'Best_fit', 100)",
         "52.31111111111111",
         "0.18802138888888892"
        ],
        [
         "('Scholl_1', 'Best_fit', 200)",
         "103.10555555555555",
         "0.6785112777777778"
        ],
        [
         "('Scholl_1', 'Best_fit', 500)",
         "254.91666666666666",
         "3.9671076111111114"
        ],
        [
         "('Scholl_1', 'First_fit', 50)",
         "26.666666666666668",
         "0.05183466666666667"
        ],
        [
         "('Scholl_1', 'First_fit', 100)",
         "52.31111111111111",
         "0.19048466666666666"
        ],
        [
         "('Scholl_1', 'First_fit', 200)",
         "103.11111111111111",
         "0.7322263333333333"
        ],
        [
         "('Scholl_1', 'First_fit', 500)",
         "254.91666666666666",
         "4.469983444444445"
        ],
        [
         "('Scholl_1', 'Genetic_Algorithm', 50)",
         "28.983333333333334",
         "4868.987833333334"
        ],
        [
         "('Scholl_1', 'Genetic_Algorithm', 100)",
         "67.27222222222223",
         "9219.415222222222"
        ],
        [
         "('Scholl_1', 'Genetic_Algorithm', 200)",
         "150.2111111111111",
         "18568.961944444443"
        ],
        [
         "('Scholl_1', 'Genetic_Algorithm', 500)",
         "432.15",
         "50520.288555555555"
        ],
        [
         "('Scholl_1', 'Next_fit', 50)",
         "32.12777777777778",
         "0.005254277777777778"
        ],
        [
         "('Scholl_1', 'Next_fit', 100)",
         "65.25555555555556",
         "0.008647611111111111"
        ],
        [
         "('Scholl_1', 'Next_fit', 200)",
         "131.33333333333334",
         "0.014977611111111112"
        ],
        [
         "('Scholl_1', 'Next_fit', 500)",
         "328.93333333333334",
         "0.03681788888888889"
        ],
        [
         "('Scholl_2', 'Best_fit', 50)",
         "10.708333333333334",
         "0.031849666666666665"
        ],
        [
         "('Scholl_2', 'Best_fit', 100)",
         "20.766666666666666",
         "0.08742683333333333"
        ]
       ],
       "shape": {
        "columns": 2,
        "rows": 132
       }
      },
      "text/html": [
       "<div>\n",
       "<style scoped>\n",
       "    .dataframe tbody tr th:only-of-type {\n",
       "        vertical-align: middle;\n",
       "    }\n",
       "\n",
       "    .dataframe tbody tr th {\n",
       "        vertical-align: top;\n",
       "    }\n",
       "\n",
       "    .dataframe thead th {\n",
       "        text-align: right;\n",
       "    }\n",
       "</style>\n",
       "<table border=\"1\" class=\"dataframe\">\n",
       "  <thead>\n",
       "    <tr style=\"text-align: right;\">\n",
       "      <th></th>\n",
       "      <th></th>\n",
       "      <th></th>\n",
       "      <th>avg_bin_number</th>\n",
       "      <th>avg_time_ms</th>\n",
       "    </tr>\n",
       "    <tr>\n",
       "      <th>DATASET_KEY</th>\n",
       "      <th>METHOD_NAME</th>\n",
       "      <th>N</th>\n",
       "      <th></th>\n",
       "      <th></th>\n",
       "    </tr>\n",
       "  </thead>\n",
       "  <tbody>\n",
       "    <tr>\n",
       "      <th rowspan=\"5\" valign=\"top\">Falkenauer U</th>\n",
       "      <th rowspan=\"4\" valign=\"top\">Best_fit</th>\n",
       "      <th>120</th>\n",
       "      <td>49.75</td>\n",
       "      <td>0.267125</td>\n",
       "    </tr>\n",
       "    <tr>\n",
       "      <th>250</th>\n",
       "      <td>103.10</td>\n",
       "      <td>1.398960</td>\n",
       "    </tr>\n",
       "    <tr>\n",
       "      <th>500</th>\n",
       "      <td>203.90</td>\n",
       "      <td>4.926475</td>\n",
       "    </tr>\n",
       "    <tr>\n",
       "      <th>1000</th>\n",
       "      <td>405.40</td>\n",
       "      <td>18.339590</td>\n",
       "    </tr>\n",
       "    <tr>\n",
       "      <th>First_fit</th>\n",
       "      <th>120</th>\n",
       "      <td>49.75</td>\n",
       "      <td>0.261330</td>\n",
       "    </tr>\n",
       "    <tr>\n",
       "      <th>...</th>\n",
       "      <th>...</th>\n",
       "      <th>...</th>\n",
       "      <td>...</td>\n",
       "      <td>...</td>\n",
       "    </tr>\n",
       "    <tr>\n",
       "      <th rowspan=\"5\" valign=\"top\">Wäscher</th>\n",
       "      <th rowspan=\"5\" valign=\"top\">Next_fit</th>\n",
       "      <th>153</th>\n",
       "      <td>17.00</td>\n",
       "      <td>0.020800</td>\n",
       "    </tr>\n",
       "    <tr>\n",
       "      <th>163</th>\n",
       "      <td>12.00</td>\n",
       "      <td>0.018600</td>\n",
       "    </tr>\n",
       "    <tr>\n",
       "      <th>164</th>\n",
       "      <td>14.00</td>\n",
       "      <td>0.019200</td>\n",
       "    </tr>\n",
       "    <tr>\n",
       "      <th>228</th>\n",
       "      <td>13.00</td>\n",
       "      <td>0.025400</td>\n",
       "    </tr>\n",
       "    <tr>\n",
       "      <th>239</th>\n",
       "      <td>21.00</td>\n",
       "      <td>0.026400</td>\n",
       "    </tr>\n",
       "  </tbody>\n",
       "</table>\n",
       "<p>132 rows × 2 columns</p>\n",
       "</div>"
      ],
      "text/plain": [
       "                               avg_bin_number  avg_time_ms\n",
       "DATASET_KEY  METHOD_NAME N                                \n",
       "Falkenauer U Best_fit    120            49.75     0.267125\n",
       "                         250           103.10     1.398960\n",
       "                         500           203.90     4.926475\n",
       "                         1000          405.40    18.339590\n",
       "             First_fit   120            49.75     0.261330\n",
       "...                                       ...          ...\n",
       "Wäscher      Next_fit    153            17.00     0.020800\n",
       "                         163            12.00     0.018600\n",
       "                         164            14.00     0.019200\n",
       "                         228            13.00     0.025400\n",
       "                         239            21.00     0.026400\n",
       "\n",
       "[132 rows x 2 columns]"
      ]
     },
     "execution_count": 133,
     "metadata": {},
     "output_type": "execute_result"
    }
   ],
   "source": [
    "grouped_df = df.copy()\n",
    "grouped_df = grouped_df.groupby(['DATASET_KEY', 'METHOD_NAME', 'N']).agg(\n",
    "    avg_bin_number=('BIN_NUMBER', 'mean'),\n",
    "    avg_time_ms=('ELAPSED_TIME_MS','mean')\n",
    "    )\n",
    "grouped_df"
   ]
  },
  {
   "cell_type": "code",
   "execution_count": 132,
   "metadata": {},
   "outputs": [
    {
     "data": {
      "application/vnd.microsoft.datawrangler.viewer.v0+json": {
       "columns": [
        {
         "name": "index",
         "rawType": "int64",
         "type": "integer"
        },
        {
         "name": "DATASET_NAME",
         "rawType": "object",
         "type": "string"
        },
        {
         "name": "METHOD_NAME",
         "rawType": "object",
         "type": "string"
        },
        {
         "name": "BIN_NUMBER",
         "rawType": "int64",
         "type": "integer"
        },
        {
         "name": "BIN_CAPACITY",
         "rawType": "int64",
         "type": "integer"
        },
        {
         "name": "N",
         "rawType": "int64",
         "type": "integer"
        },
        {
         "name": "ELAPSED_TIME_MS",
         "rawType": "float64",
         "type": "float"
        },
        {
         "name": "DATASET_KEY",
         "rawType": "object",
         "type": "string"
        }
       ],
       "conversionMethod": "pd.DataFrame",
       "ref": "0237227a-1294-4013-9f1a-512ddb9ce046",
       "rows": [
        [
         "0",
         "Scholl_2_N3W4B1R9.txt",
         "Genetic_Algorithm",
         "62",
         "1000",
         "200",
         "16764.44",
         "Scholl_2"
        ],
        [
         "1",
         "Scholl_2_N4W3B1R9.txt",
         "Genetic_Algorithm",
         "170",
         "1000",
         "500",
         "46723.31",
         "Scholl_2"
        ],
        [
         "2",
         "Scholl_2_N4W1B1R3.txt",
         "Genetic_Algorithm",
         "243",
         "1000",
         "500",
         "48974.18",
         "Scholl_2"
        ],
        [
         "3",
         "Scholl_2_N4W3B2R1.txt",
         "Genetic_Algorithm",
         "168",
         "1000",
         "500",
         "45335.92",
         "Scholl_2"
        ],
        [
         "4",
         "Scholl_2_N4W3B1R1.txt",
         "Genetic_Algorithm",
         "170",
         "1000",
         "500",
         "46006.53",
         "Scholl_2"
        ],
        [
         "5",
         "Scholl_2_N2W2B2R0.txt",
         "Genetic_Algorithm",
         "29",
         "1000",
         "100",
         "8633.6",
         "Scholl_2"
        ],
        [
         "6",
         "Scholl_2_N3W1B3R4.txt",
         "Genetic_Algorithm",
         "86",
         "1000",
         "200",
         "18811.31",
         "Scholl_2"
        ],
        [
         "7",
         "Scholl_2_N1W4B3R7.txt",
         "Genetic_Algorithm",
         "10",
         "1000",
         "50",
         "4320.39",
         "Scholl_2"
        ],
        [
         "8",
         "Scholl_2_N4W3B3R1.txt",
         "Genetic_Algorithm",
         "175",
         "1000",
         "500",
         "46107.49",
         "Scholl_2"
        ],
        [
         "9",
         "Scholl_2_N3W2B1R8.txt",
         "Genetic_Algorithm",
         "67",
         "1000",
         "200",
         "17183.32",
         "Scholl_2"
        ],
        [
         "10",
         "Scholl_2_N2W1B1R9.txt",
         "Genetic_Algorithm",
         "40",
         "1000",
         "100",
         "9255.62",
         "Scholl_2"
        ],
        [
         "11",
         "Scholl_2_N1W4B2R5.txt",
         "Genetic_Algorithm",
         "11",
         "1000",
         "50",
         "4404.58",
         "Scholl_2"
        ],
        [
         "12",
         "Scholl_2_N3W1B2R1.txt",
         "Genetic_Algorithm",
         "86",
         "1000",
         "200",
         "18570.62",
         "Scholl_2"
        ],
        [
         "13",
         "Scholl_2_N3W2B2R5.txt",
         "Genetic_Algorithm",
         "65",
         "1000",
         "200",
         "17077.93",
         "Scholl_2"
        ],
        [
         "14",
         "Scholl_2_N1W3B1R2.txt",
         "Genetic_Algorithm",
         "11",
         "1000",
         "50",
         "4390.78",
         "Scholl_2"
        ],
        [
         "15",
         "Scholl_2_N2W2B1R0.txt",
         "Genetic_Algorithm",
         "29",
         "1000",
         "100",
         "8525.74",
         "Scholl_2"
        ],
        [
         "16",
         "Scholl_2_N2W2B3R7.txt",
         "Genetic_Algorithm",
         "33",
         "1000",
         "100",
         "8727.65",
         "Scholl_2"
        ],
        [
         "17",
         "Scholl_2_N4W1B1R4.txt",
         "Genetic_Algorithm",
         "233",
         "1000",
         "500",
         "49907.68",
         "Scholl_2"
        ],
        [
         "18",
         "Scholl_2_N4W4B2R0.txt",
         "Genetic_Algorithm",
         "169",
         "1000",
         "500",
         "46122.26",
         "Scholl_2"
        ],
        [
         "19",
         "Scholl_2_N3W4B3R4.txt",
         "Genetic_Algorithm",
         "65",
         "1000",
         "200",
         "17053.81",
         "Scholl_2"
        ],
        [
         "20",
         "Scholl_2_N4W1B1R8.txt",
         "Genetic_Algorithm",
         "229",
         "1000",
         "500",
         "49421.83",
         "Scholl_2"
        ],
        [
         "21",
         "Scholl_2_N1W2B1R8.txt",
         "Genetic_Algorithm",
         "13",
         "1000",
         "50",
         "4511.66",
         "Scholl_2"
        ],
        [
         "22",
         "Scholl_2_N1W1B2R9.txt",
         "Genetic_Algorithm",
         "20",
         "1000",
         "50",
         "4961.62",
         "Scholl_2"
        ],
        [
         "23",
         "Scholl_2_N3W3B2R2.txt",
         "Genetic_Algorithm",
         "62",
         "1000",
         "200",
         "16971.81",
         "Scholl_2"
        ],
        [
         "24",
         "Scholl_2_N2W3B1R7.txt",
         "Genetic_Algorithm",
         "30",
         "1000",
         "100",
         "8677.85",
         "Scholl_2"
        ],
        [
         "25",
         "Scholl_2_N4W1B2R9.txt",
         "Genetic_Algorithm",
         "226",
         "1000",
         "500",
         "49870.06",
         "Scholl_2"
        ],
        [
         "26",
         "Scholl_2_N1W1B1R8.txt",
         "Genetic_Algorithm",
         "21",
         "1000",
         "50",
         "5066.19",
         "Scholl_2"
        ],
        [
         "27",
         "Scholl_2_N2W1B3R7.txt",
         "Genetic_Algorithm",
         "39",
         "1000",
         "100",
         "9287.41",
         "Scholl_2"
        ],
        [
         "28",
         "Scholl_2_N3W2B2R0.txt",
         "Genetic_Algorithm",
         "64",
         "1000",
         "200",
         "16810.16",
         "Scholl_2"
        ],
        [
         "29",
         "Scholl_2_N2W4B1R8.txt",
         "Genetic_Algorithm",
         "25",
         "1000",
         "100",
         "8565.55",
         "Scholl_2"
        ],
        [
         "30",
         "Scholl_2_N1W4B3R1.txt",
         "Genetic_Algorithm",
         "12",
         "1000",
         "50",
         "4381.71",
         "Scholl_2"
        ],
        [
         "31",
         "Scholl_2_N2W1B3R9.txt",
         "Genetic_Algorithm",
         "39",
         "1000",
         "100",
         "9421.11",
         "Scholl_2"
        ],
        [
         "32",
         "Scholl_2_N1W1B3R6.txt",
         "Genetic_Algorithm",
         "18",
         "1000",
         "50",
         "4811.48",
         "Scholl_2"
        ],
        [
         "33",
         "Scholl_2_N1W2B3R6.txt",
         "Genetic_Algorithm",
         "13",
         "1000",
         "50",
         "4515.2",
         "Scholl_2"
        ],
        [
         "34",
         "Scholl_2_N4W4B3R7.txt",
         "Genetic_Algorithm",
         "171",
         "1000",
         "500",
         "46103.69",
         "Scholl_2"
        ],
        [
         "35",
         "Scholl_2_N3W2B2R6.txt",
         "Genetic_Algorithm",
         "64",
         "1000",
         "200",
         "16985.64",
         "Scholl_2"
        ],
        [
         "36",
         "Scholl_2_N3W1B3R7.txt",
         "Genetic_Algorithm",
         "86",
         "1000",
         "200",
         "18118.11",
         "Scholl_2"
        ],
        [
         "37",
         "Scholl_2_N4W2B1R3.txt",
         "Genetic_Algorithm",
         "175",
         "1000",
         "500",
         "46833.41",
         "Scholl_2"
        ],
        [
         "38",
         "Scholl_2_N3W4B3R8.txt",
         "Genetic_Algorithm",
         "63",
         "1000",
         "200",
         "16676.17",
         "Scholl_2"
        ],
        [
         "39",
         "Scholl_2_N3W2B3R7.txt",
         "Genetic_Algorithm",
         "66",
         "1000",
         "200",
         "17135.01",
         "Scholl_2"
        ],
        [
         "40",
         "Scholl_2_N3W4B1R4.txt",
         "Genetic_Algorithm",
         "65",
         "1000",
         "200",
         "17211.97",
         "Scholl_2"
        ],
        [
         "41",
         "Scholl_2_N1W2B2R6.txt",
         "Genetic_Algorithm",
         "14",
         "1000",
         "50",
         "4533.27",
         "Scholl_2"
        ],
        [
         "42",
         "Scholl_2_N3W4B3R0.txt",
         "Genetic_Algorithm",
         "66",
         "1000",
         "200",
         "16987.97",
         "Scholl_2"
        ],
        [
         "43",
         "Scholl_2_N4W2B1R2.txt",
         "Genetic_Algorithm",
         "176",
         "1000",
         "500",
         "46469.12",
         "Scholl_2"
        ],
        [
         "44",
         "Scholl_2_N4W2B2R8.txt",
         "Genetic_Algorithm",
         "177",
         "1000",
         "500",
         "46832.23",
         "Scholl_2"
        ],
        [
         "45",
         "Scholl_2_N1W2B2R5.txt",
         "Genetic_Algorithm",
         "14",
         "1000",
         "50",
         "4577.33",
         "Scholl_2"
        ],
        [
         "46",
         "Scholl_2_N3W2B3R2.txt",
         "Genetic_Algorithm",
         "64",
         "1000",
         "200",
         "17018.11",
         "Scholl_2"
        ],
        [
         "47",
         "Scholl_2_N3W4B3R2.txt",
         "Genetic_Algorithm",
         "59",
         "1000",
         "200",
         "16717.95",
         "Scholl_2"
        ],
        [
         "48",
         "Scholl_2_N3W1B1R3.txt",
         "Genetic_Algorithm",
         "84",
         "1000",
         "200",
         "18797.93",
         "Scholl_2"
        ],
        [
         "49",
         "Scholl_2_N3W2B3R5.txt",
         "Genetic_Algorithm",
         "65",
         "1000",
         "200",
         "17236.31",
         "Scholl_2"
        ]
       ],
       "shape": {
        "columns": 7,
        "rows": 5508
       }
      },
      "text/html": [
       "<div>\n",
       "<style scoped>\n",
       "    .dataframe tbody tr th:only-of-type {\n",
       "        vertical-align: middle;\n",
       "    }\n",
       "\n",
       "    .dataframe tbody tr th {\n",
       "        vertical-align: top;\n",
       "    }\n",
       "\n",
       "    .dataframe thead th {\n",
       "        text-align: right;\n",
       "    }\n",
       "</style>\n",
       "<table border=\"1\" class=\"dataframe\">\n",
       "  <thead>\n",
       "    <tr style=\"text-align: right;\">\n",
       "      <th></th>\n",
       "      <th>DATASET_NAME</th>\n",
       "      <th>METHOD_NAME</th>\n",
       "      <th>BIN_NUMBER</th>\n",
       "      <th>BIN_CAPACITY</th>\n",
       "      <th>N</th>\n",
       "      <th>ELAPSED_TIME_MS</th>\n",
       "      <th>DATASET_KEY</th>\n",
       "    </tr>\n",
       "  </thead>\n",
       "  <tbody>\n",
       "    <tr>\n",
       "      <th>0</th>\n",
       "      <td>Scholl_2_N3W4B1R9.txt</td>\n",
       "      <td>Genetic_Algorithm</td>\n",
       "      <td>62</td>\n",
       "      <td>1000</td>\n",
       "      <td>200</td>\n",
       "      <td>16764.4400</td>\n",
       "      <td>Scholl_2</td>\n",
       "    </tr>\n",
       "    <tr>\n",
       "      <th>1</th>\n",
       "      <td>Scholl_2_N4W3B1R9.txt</td>\n",
       "      <td>Genetic_Algorithm</td>\n",
       "      <td>170</td>\n",
       "      <td>1000</td>\n",
       "      <td>500</td>\n",
       "      <td>46723.3100</td>\n",
       "      <td>Scholl_2</td>\n",
       "    </tr>\n",
       "    <tr>\n",
       "      <th>2</th>\n",
       "      <td>Scholl_2_N4W1B1R3.txt</td>\n",
       "      <td>Genetic_Algorithm</td>\n",
       "      <td>243</td>\n",
       "      <td>1000</td>\n",
       "      <td>500</td>\n",
       "      <td>48974.1800</td>\n",
       "      <td>Scholl_2</td>\n",
       "    </tr>\n",
       "    <tr>\n",
       "      <th>3</th>\n",
       "      <td>Scholl_2_N4W3B2R1.txt</td>\n",
       "      <td>Genetic_Algorithm</td>\n",
       "      <td>168</td>\n",
       "      <td>1000</td>\n",
       "      <td>500</td>\n",
       "      <td>45335.9200</td>\n",
       "      <td>Scholl_2</td>\n",
       "    </tr>\n",
       "    <tr>\n",
       "      <th>4</th>\n",
       "      <td>Scholl_2_N4W3B1R1.txt</td>\n",
       "      <td>Genetic_Algorithm</td>\n",
       "      <td>170</td>\n",
       "      <td>1000</td>\n",
       "      <td>500</td>\n",
       "      <td>46006.5300</td>\n",
       "      <td>Scholl_2</td>\n",
       "    </tr>\n",
       "    <tr>\n",
       "      <th>...</th>\n",
       "      <td>...</td>\n",
       "      <td>...</td>\n",
       "      <td>...</td>\n",
       "      <td>...</td>\n",
       "      <td>...</td>\n",
       "      <td>...</td>\n",
       "      <td>...</td>\n",
       "    </tr>\n",
       "    <tr>\n",
       "      <th>4126</th>\n",
       "      <td>Falkenauer U_Falkenauer_u500_18.txt</td>\n",
       "      <td>First_fit</td>\n",
       "      <td>205</td>\n",
       "      <td>150</td>\n",
       "      <td>500</td>\n",
       "      <td>3.8158</td>\n",
       "      <td>Falkenauer U</td>\n",
       "    </tr>\n",
       "    <tr>\n",
       "      <th>4127</th>\n",
       "      <td>Falkenauer U_Falkenauer_u500_18.txt</td>\n",
       "      <td>Best_fit</td>\n",
       "      <td>205</td>\n",
       "      <td>150</td>\n",
       "      <td>500</td>\n",
       "      <td>4.5111</td>\n",
       "      <td>Falkenauer U</td>\n",
       "    </tr>\n",
       "    <tr>\n",
       "      <th>4128</th>\n",
       "      <td>Falkenauer U_Falkenauer_u500_19.txt</td>\n",
       "      <td>Next_fit</td>\n",
       "      <td>275</td>\n",
       "      <td>150</td>\n",
       "      <td>500</td>\n",
       "      <td>0.0696</td>\n",
       "      <td>Falkenauer U</td>\n",
       "    </tr>\n",
       "    <tr>\n",
       "      <th>4129</th>\n",
       "      <td>Falkenauer U_Falkenauer_u500_19.txt</td>\n",
       "      <td>First_fit</td>\n",
       "      <td>199</td>\n",
       "      <td>150</td>\n",
       "      <td>500</td>\n",
       "      <td>2.2883</td>\n",
       "      <td>Falkenauer U</td>\n",
       "    </tr>\n",
       "    <tr>\n",
       "      <th>4130</th>\n",
       "      <td>Falkenauer U_Falkenauer_u500_19.txt</td>\n",
       "      <td>Best_fit</td>\n",
       "      <td>199</td>\n",
       "      <td>150</td>\n",
       "      <td>500</td>\n",
       "      <td>2.1835</td>\n",
       "      <td>Falkenauer U</td>\n",
       "    </tr>\n",
       "  </tbody>\n",
       "</table>\n",
       "<p>5508 rows × 7 columns</p>\n",
       "</div>"
      ],
      "text/plain": [
       "                             DATASET_NAME        METHOD_NAME  BIN_NUMBER  \\\n",
       "0                   Scholl_2_N3W4B1R9.txt  Genetic_Algorithm          62   \n",
       "1                   Scholl_2_N4W3B1R9.txt  Genetic_Algorithm         170   \n",
       "2                   Scholl_2_N4W1B1R3.txt  Genetic_Algorithm         243   \n",
       "3                   Scholl_2_N4W3B2R1.txt  Genetic_Algorithm         168   \n",
       "4                   Scholl_2_N4W3B1R1.txt  Genetic_Algorithm         170   \n",
       "...                                   ...                ...         ...   \n",
       "4126  Falkenauer U_Falkenauer_u500_18.txt          First_fit         205   \n",
       "4127  Falkenauer U_Falkenauer_u500_18.txt           Best_fit         205   \n",
       "4128  Falkenauer U_Falkenauer_u500_19.txt           Next_fit         275   \n",
       "4129  Falkenauer U_Falkenauer_u500_19.txt          First_fit         199   \n",
       "4130  Falkenauer U_Falkenauer_u500_19.txt           Best_fit         199   \n",
       "\n",
       "      BIN_CAPACITY    N  ELAPSED_TIME_MS   DATASET_KEY  \n",
       "0             1000  200       16764.4400      Scholl_2  \n",
       "1             1000  500       46723.3100      Scholl_2  \n",
       "2             1000  500       48974.1800      Scholl_2  \n",
       "3             1000  500       45335.9200      Scholl_2  \n",
       "4             1000  500       46006.5300      Scholl_2  \n",
       "...            ...  ...              ...           ...  \n",
       "4126           150  500           3.8158  Falkenauer U  \n",
       "4127           150  500           4.5111  Falkenauer U  \n",
       "4128           150  500           0.0696  Falkenauer U  \n",
       "4129           150  500           2.2883  Falkenauer U  \n",
       "4130           150  500           2.1835  Falkenauer U  \n",
       "\n",
       "[5508 rows x 7 columns]"
      ]
     },
     "execution_count": 132,
     "metadata": {},
     "output_type": "execute_result"
    }
   ],
   "source": [
    "df"
   ]
  }
 ],
 "metadata": {
  "kernelspec": {
   "display_name": "trainings",
   "language": "python",
   "name": "python3"
  },
  "language_info": {
   "codemirror_mode": {
    "name": "ipython",
    "version": 3
   },
   "file_extension": ".py",
   "mimetype": "text/x-python",
   "name": "python",
   "nbconvert_exporter": "python",
   "pygments_lexer": "ipython3",
   "version": "3.11.9"
  }
 },
 "nbformat": 4,
 "nbformat_minor": 2
}
